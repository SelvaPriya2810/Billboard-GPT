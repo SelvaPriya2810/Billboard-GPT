{
  "nbformat": 4,
  "nbformat_minor": 0,
  "metadata": {
    "colab": {
      "provenance": []
    },
    "kernelspec": {
      "name": "python3",
      "display_name": "Python 3"
    },
    "language_info": {
      "name": "python"
    }
  },
  "cells": [
    {
      "cell_type": "code",
      "execution_count": 1,
      "metadata": {
        "colab": {
          "base_uri": "https://localhost:8080/"
        },
        "id": "3ictERfMaLzt",
        "outputId": "e6cb54f8-40fe-4c10-af78-2f9266c56d05"
      },
      "outputs": [
        {
          "output_type": "stream",
          "name": "stdout",
          "text": [
            "Requirement already satisfied: beautifulsoup4 in /usr/local/lib/python3.11/dist-packages (4.13.3)\n",
            "Requirement already satisfied: requests in /usr/local/lib/python3.11/dist-packages (2.32.3)\n",
            "Requirement already satisfied: openai in /usr/local/lib/python3.11/dist-packages (1.70.0)\n",
            "Requirement already satisfied: soupsieve>1.2 in /usr/local/lib/python3.11/dist-packages (from beautifulsoup4) (2.6)\n",
            "Requirement already satisfied: typing-extensions>=4.0.0 in /usr/local/lib/python3.11/dist-packages (from beautifulsoup4) (4.13.0)\n",
            "Requirement already satisfied: charset-normalizer<4,>=2 in /usr/local/lib/python3.11/dist-packages (from requests) (3.4.1)\n",
            "Requirement already satisfied: idna<4,>=2.5 in /usr/local/lib/python3.11/dist-packages (from requests) (3.10)\n",
            "Requirement already satisfied: urllib3<3,>=1.21.1 in /usr/local/lib/python3.11/dist-packages (from requests) (2.3.0)\n",
            "Requirement already satisfied: certifi>=2017.4.17 in /usr/local/lib/python3.11/dist-packages (from requests) (2025.1.31)\n",
            "Requirement already satisfied: anyio<5,>=3.5.0 in /usr/local/lib/python3.11/dist-packages (from openai) (4.9.0)\n",
            "Requirement already satisfied: distro<2,>=1.7.0 in /usr/local/lib/python3.11/dist-packages (from openai) (1.9.0)\n",
            "Requirement already satisfied: httpx<1,>=0.23.0 in /usr/local/lib/python3.11/dist-packages (from openai) (0.28.1)\n",
            "Requirement already satisfied: jiter<1,>=0.4.0 in /usr/local/lib/python3.11/dist-packages (from openai) (0.9.0)\n",
            "Requirement already satisfied: pydantic<3,>=1.9.0 in /usr/local/lib/python3.11/dist-packages (from openai) (2.11.1)\n",
            "Requirement already satisfied: sniffio in /usr/local/lib/python3.11/dist-packages (from openai) (1.3.1)\n",
            "Requirement already satisfied: tqdm>4 in /usr/local/lib/python3.11/dist-packages (from openai) (4.67.1)\n",
            "Requirement already satisfied: httpcore==1.* in /usr/local/lib/python3.11/dist-packages (from httpx<1,>=0.23.0->openai) (1.0.7)\n",
            "Requirement already satisfied: h11<0.15,>=0.13 in /usr/local/lib/python3.11/dist-packages (from httpcore==1.*->httpx<1,>=0.23.0->openai) (0.14.0)\n",
            "Requirement already satisfied: annotated-types>=0.6.0 in /usr/local/lib/python3.11/dist-packages (from pydantic<3,>=1.9.0->openai) (0.7.0)\n",
            "Requirement already satisfied: pydantic-core==2.33.0 in /usr/local/lib/python3.11/dist-packages (from pydantic<3,>=1.9.0->openai) (2.33.0)\n",
            "Requirement already satisfied: typing-inspection>=0.4.0 in /usr/local/lib/python3.11/dist-packages (from pydantic<3,>=1.9.0->openai) (0.4.0)\n"
          ]
        }
      ],
      "source": [
        "!pip install beautifulsoup4 requests openai\n"
      ]
    },
    {
      "cell_type": "code",
      "source": [
        "import requests\n",
        "from bs4 import BeautifulSoup\n",
        "from datetime import datetime, timedelta\n",
        "\n",
        "def get_chart_url(date=None):\n",
        "    \"\"\"\n",
        "    Returns the Billboard Hot 100 URL.\n",
        "    If date is None, returns current chart URL.\n",
        "    If date is a datetime object, formats it into the URL.\n",
        "    \"\"\"\n",
        "    if date is None:\n",
        "        return 'https://www.billboard.com/charts/hot-100/'\n",
        "    return f\"https://www.billboard.com/charts/hot-100/{date.strftime('%Y-%m-%d')}/\"\n",
        "\n",
        "def scrape_billboard_chart(url):\n",
        "    \"\"\"\n",
        "    Scrapes Billboard Hot 100 chart from the given URL.\n",
        "    Returns a list of dicts with 'rank', 'title', and 'artist'.\n",
        "    \"\"\"\n",
        "    headers = {\"User-Agent\": \"Mozilla/5.0\"}\n",
        "    response = requests.get(url, headers=headers)\n",
        "    soup = BeautifulSoup(response.text, 'html.parser')\n",
        "\n",
        "    titles = [tag.get_text(strip=True) for tag in soup.select(\"li ul li h3#title-of-a-story\")]\n",
        "    artists = [tag.get_text(strip=True) for tag in soup.select(\"li ul li span.c-label.a-no-trucate\")]\n",
        "\n",
        "    songs = [{\"rank\": i+1, \"title\": titles[i], \"artist\": artists[i]}\n",
        "             for i in range(min(len(titles), len(artists)))]\n",
        "    return songs\n",
        "\n",
        "# Automated date generation\n",
        "today = datetime.today()\n",
        "last_week = today - timedelta(days=7)\n",
        "\n",
        "# Get URLs\n",
        "current_url = get_chart_url()\n",
        "last_week_url = get_chart_url(last_week)\n",
        "\n",
        "# Scrape charts\n",
        "print(\"📅 Scraping Billboard Hot 100...\")\n",
        "current_chart = scrape_billboard_chart(current_url)\n",
        "last_week_chart = scrape_billboard_chart(last_week_url)\n",
        "\n",
        "# Print top 5 as preview\n",
        "print(\"\\n🎶 Current Week - Top 5:\")\n",
        "for song in current_chart[:5]:\n",
        "    print(f\"{song['rank']}. {song['title']} by {song['artist']}\")\n",
        "\n",
        "print(\"\\n🎶 Last Week - Top 5:\")\n",
        "for song in last_week_chart[:5]:\n",
        "    print(f\"{song['rank']}. {song['title']} by {song['artist']}\")\n",
        "\n"
      ],
      "metadata": {
        "colab": {
          "base_uri": "https://localhost:8080/"
        },
        "id": "JJjois6MaM5Q",
        "outputId": "f04bb599-e463-4893-a6d5-b0c3f1488688"
      },
      "execution_count": 6,
      "outputs": [
        {
          "output_type": "stream",
          "name": "stdout",
          "text": [
            "📅 Scraping Billboard Hot 100...\n",
            "\n",
            "🎶 Current Week - Top 5:\n",
            "1. Luther by Kendrick Lamar & SZA\n",
            "2. Die With A Smile by Lady Gaga & Bruno Mars\n",
            "3. A Bar Song (Tipsy) by Shaboozey\n",
            "4. Just In Case by Morgan Wallen\n",
            "5. Pink Pony Club by Chappell Roan\n",
            "\n",
            "🎶 Last Week - Top 5:\n",
            "1. Luther by Kendrick Lamar & SZA\n",
            "2. Evil J0rdan by Playboi Carti\n",
            "3. Die With A Smile by Lady Gaga & Bruno Mars\n",
            "4. Rather Lie by Playboi Carti & The Weeknd\n",
            "5. The Giver by Chappell Roan\n"
          ]
        }
      ]
    },
    {
      "cell_type": "code",
      "source": [
        "import openai\n",
        "import json\n",
        "\n",
        "# ⛔ Replace with your OpenAI API key\n",
        "openai.api_key = \"\"\n",
        "\n",
        "def gpt_chart_summary(current_chart, last_chart):\n",
        "    prompt = f\"\"\"\n",
        "You are a music analyst helping summarize Billboard chart trends.\n",
        "\n",
        "Here is the current week's Billboard Hot 100 chart (top 100 songs):\n",
        "{json.dumps(current_chart[:100], indent=2)}\n",
        "\n",
        "Here is last week's chart:\n",
        "{json.dumps(last_chart[:100], indent=2)}\n",
        "\n",
        "Compare the two and tell me:\n",
        "1. What are the biggest changes in ranks?\n",
        "2. Any songs that entered the chart this week?\n",
        "3. Which artists have multiple songs?\n",
        "4. Any trends in genres or popularity?\n",
        "\n",
        "Return the answer as a summary with bullet points.\n",
        "\"\"\"\n",
        "\n",
        "    response = openai.chat.completions.create(\n",
        "        model=\"gpt-4\",  # You can use \"gpt-3.5-turbo\" too\n",
        "        messages=[{\"role\": \"user\", \"content\": prompt}],\n",
        "        temperature=0.7\n",
        "    )\n",
        "    return response.choices[0].message.content\n",
        "\n",
        "# 🧠 Run GPT analysis\n",
        "summary = gpt_chart_summary(current_chart, last_week_chart)\n",
        "print(\"🎧 GPT Analysis Summary:\\n\")\n",
        "print(summary)\n",
        "\n"
      ],
      "metadata": {
        "colab": {
          "base_uri": "https://localhost:8080/"
        },
        "id": "XbKzoYfbefqx",
        "outputId": "1069f934-9097-4e2c-9528-a2583fc4f7d3"
      },
      "execution_count": 10,
      "outputs": [
        {
          "output_type": "stream",
          "name": "stdout",
          "text": [
            "🎧 GPT Analysis Summary:\n",
            "\n",
            "- Biggest Changes in Ranks: \"Evil J0rdan\" by Playboi Carti dropped from rank 2 to 27, \"Rather Lie\" by Playboi Carti & The Weeknd went from rank 4 to 25, \"The Giver\" by Chappell Roan dropped from rank 5 to 29, \"Beautiful Things\" by Benson Boone jumped from rank 15 to 8, and \"Good Credit\" by Playboi Carti & Kendrick Lamar fell from rank 17 to 60.\n",
            "\n",
            "- New Entries: \"Just In Case\" by Morgan Wallen, \"I'm A Little Crazy\" by Morgan Wallen, \"Call Me When You Break Up\" by Selena Gomez, benny blanco & Gracie Abrams, \"Mona Lisa\" by j-hope, \"EOO\" by Bad Bunny, \"Te Queria Ver\" by Aleman X Neton Vega, \"This Town's Been Too Good To Us\" by Dylan Scott, \"How Does It Feel To Be Forgotten\" by Selena Gomez & benny blanco, and \"Voy A Llevarte Pa PR\" by Bad Bunny entered the chart this week.\n",
            "\n",
            "- Multiple Songs Artists: Kendrick Lamar, Playboi Carti, Morgan Wallen, Lady Gaga, Bruno Mars, Chappell Roan, Sabrina Carpenter, Teddy Swims, Drake, The Weeknd, Doechii, Billie Eilish, Benson Boone, and Bad Bunny all have multiple songs on the chart.\n",
            "\n",
            "- Trends: Hip-Hop/Rap seems to be the dominant genre, with artists like Kendrick Lamar, Playboi Carti, Drake, and The Weeknd consistently appearing on the chart. There's also a trend of collaborations, with multiple artists featuring on a single track. In terms of popularity, Kendrick Lamar, Playboi Carti, and Morgan Wallen are maintaining high ranks with multiple tracks.\n"
          ]
        }
      ]
    },
    {
      "cell_type": "code",
      "source": [
        "top_10_songs = current_chart[:10]  # Just the top 10\n"
      ],
      "metadata": {
        "id": "d6HJtoEztDxN"
      },
      "execution_count": 15,
      "outputs": []
    },
    {
      "cell_type": "code",
      "source": [
        "\n",
        "\n",
        "def classify_top_10_genres(songs):\n",
        "    prompt = f\"\"\"\n",
        "You're a music expert. Classify the following Billboard Top 10 songs into genres like Pop, Rap, Hip-Hop, R&B, Rock, Country, EDM, Latin, etc.\n",
        "\n",
        "Return the result as a JSON list with each item having: title, artist, genre.\n",
        "\n",
        "Songs:\n",
        "{json.dumps(songs, indent=2)}\n",
        "\"\"\"\n",
        "\n",
        "    response = openai.chat.completions.create(\n",
        "        model=\"gpt-4\",  # Or \"gpt-3.5-turbo\"\n",
        "        messages=[{\"role\": \"user\", \"content\": prompt}],\n",
        "        temperature=0.4\n",
        "    )\n",
        "\n",
        "    return json.loads(response.choices[0].message.content)\n"
      ],
      "metadata": {
        "id": "muOexslgtMrm"
      },
      "execution_count": 16,
      "outputs": []
    },
    {
      "cell_type": "code",
      "source": [
        "genre_predictions = classify_top_10_genres(top_10_songs)\n"
      ],
      "metadata": {
        "id": "QwC-CoyZsuiO"
      },
      "execution_count": 17,
      "outputs": []
    },
    {
      "cell_type": "code",
      "source": [
        "for song in genre_predictions:\n",
        "    print(f\"{song['title']} by {song['artist']} → Genre: {song['genre']}\")\n"
      ],
      "metadata": {
        "colab": {
          "base_uri": "https://localhost:8080/"
        },
        "id": "KIHvZghithCU",
        "outputId": "bb2f9afb-38ef-462e-c999-6d037a586d50"
      },
      "execution_count": 18,
      "outputs": [
        {
          "output_type": "stream",
          "name": "stdout",
          "text": [
            "Luther by Kendrick Lamar & SZA → Genre: Hip-Hop/R&B\n",
            "Die With A Smile by Lady Gaga & Bruno Mars → Genre: Pop\n",
            "A Bar Song (Tipsy) by Shaboozey → Genre: Rap\n",
            "Just In Case by Morgan Wallen → Genre: Country\n",
            "Pink Pony Club by Chappell Roan → Genre: Pop\n",
            "Lose Control by Teddy Swims → Genre: R&B\n",
            "Nokia by Drake → Genre: Hip-Hop/Rap\n",
            "Beautiful Things by Benson Boone → Genre: Pop\n",
            "Not Like Us by Kendrick Lamar → Genre: Hip-Hop/Rap\n",
            "APT. by ROSE & Bruno Mars → Genre: Pop\n"
          ]
        }
      ]
    }
  ]
}